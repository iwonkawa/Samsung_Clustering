{
 "cells": [
  {
   "cell_type": "markdown",
   "id": "fbfbbe0b-0e90-4306-854c-a1e425105bc3",
   "metadata": {},
   "source": [
    "Data Preprocessing:\n",
    "1. Do we need all features?\n",
    "No, dimensionality reduction techniques like PCA can help retain key information while reducing features.\n",
    "\n",
    "2. Is preprocessing needed?\n",
    "Yes, scaling is necessary to ensure features are comparable (e.g., using StandardScaler).\n",
    "\n",
    "3. Do we know how to preprocess?\n",
    "We scaled the data and applied PCA to reduce dimensionality.\n",
    "\n",
    "4. Do we know what each feature represents?\n",
    "No detailed description of each feature is available, but this is not critical for unsupervised learning.\n",
    "\n",
    "5. Are two files (train/test) needed?\n",
    "In unsupervised learning, a split is not required, as the goal is not to predict labels. For supervised learning, splitting helps validate performance.\n",
    "\n",
    "6. Is a train/test split necessary in unsupervised learning?\n",
    "No, because we're clustering without labels. However, for supervised learning, the split is important for model validation."
   ]
  },
  {
   "cell_type": "markdown",
   "id": "926eb448-e857-4066-8ffa-2d63e20804c6",
   "metadata": {},
   "source": [
    "Import necessary libraries"
   ]
  },
  {
   "cell_type": "code",
   "execution_count": 1,
   "id": "833ce14d-153b-473e-a028-b7d234812d25",
   "metadata": {},
   "outputs": [],
   "source": [
    "import pandas as pd\n",
    "import os\n",
    "from sklearn.preprocessing import StandardScaler\n",
    "from sklearn.decomposition import PCA\n",
    "from sklearn.cluster import KMeans\n",
    "from sklearn.model_selection import train_test_split, GridSearchCV\n",
    "from sklearn.ensemble import RandomForestClassifier\n",
    "from sklearn.svm import SVC\n",
    "from sklearn.metrics import accuracy_score, classification_report\n",
    "import matplotlib.pyplot as plt"
   ]
  },
  {
   "cell_type": "markdown",
   "id": "53acb752-0b07-4a97-8f47-1ea205ccac71",
   "metadata": {},
   "source": [
    "1. LOAD THE DATA"
   ]
  },
  {
   "cell_type": "code",
   "execution_count": 2,
   "id": "496b9658-c053-4e3d-b484-ba31a10ef2c9",
   "metadata": {},
   "outputs": [
    {
     "name": "stdout",
     "output_type": "stream",
     "text": [
      "Train features file exists: True\n",
      "Test features file exists: True\n",
      "Train Features Sample:\n",
      "        0         1         2         3         4         5         6    \\\n",
      "0  0.288585 -0.020294 -0.132905 -0.995279 -0.983111 -0.913526 -0.995112   \n",
      "1  0.278419 -0.016411 -0.123520 -0.998245 -0.975300 -0.960322 -0.998807   \n",
      "2  0.279653 -0.019467 -0.113462 -0.995380 -0.967187 -0.978944 -0.996520   \n",
      "3  0.279174 -0.026201 -0.123283 -0.996091 -0.983403 -0.990675 -0.997099   \n",
      "4  0.276629 -0.016570 -0.115362 -0.998139 -0.980817 -0.990482 -0.998321   \n",
      "\n",
      "        7         8         9    ...       551       552       553       554  \\\n",
      "0 -0.983185 -0.923527 -0.934724  ... -0.074323 -0.298676 -0.710304 -0.112754   \n",
      "1 -0.974914 -0.957686 -0.943068  ...  0.158075 -0.595051 -0.861499  0.053477   \n",
      "2 -0.963668 -0.977469 -0.938692  ...  0.414503 -0.390748 -0.760104 -0.118559   \n",
      "3 -0.982750 -0.989302 -0.938692  ...  0.404573 -0.117290 -0.482845 -0.036788   \n",
      "4 -0.979672 -0.990441 -0.942469  ...  0.087753 -0.351471 -0.699205  0.123320   \n",
      "\n",
      "        555       556       557       558       559       560  \n",
      "0  0.030400 -0.464761 -0.018446 -0.841247  0.179941 -0.058627  \n",
      "1 -0.007435 -0.732626  0.703511 -0.844788  0.180289 -0.054317  \n",
      "2  0.177899  0.100699  0.808529 -0.848933  0.180637 -0.049118  \n",
      "3 -0.012892  0.640011 -0.485366 -0.848649  0.181935 -0.047663  \n",
      "4  0.122542  0.693578 -0.615971 -0.847865  0.185151 -0.043892  \n",
      "\n",
      "[5 rows x 561 columns]\n",
      "Train Labels Sample:\n",
      "   0\n",
      "0  5\n",
      "1  5\n",
      "2  5\n",
      "3  5\n",
      "4  5\n"
     ]
    }
   ],
   "source": [
    "# Corrected paths\n",
    "train_features_path = r'C:\\Kodilla\\samsung\\samsung_train.txt'\n",
    "test_features_path = r'C:\\Kodilla\\samsung\\samsung_test.txt'\n",
    "\n",
    "train_labels_path = r'C:\\Kodilla\\samsung\\samsung_train_labels.txt'\n",
    "test_labels_path = r'C:\\Kodilla\\samsung\\samsung_test_labels.txt'\n",
    "\n",
    "# Check if files exist\n",
    "print(\"Train features file exists:\", os.path.exists(train_features_path))\n",
    "print(\"Test features file exists:\", os.path.exists(test_features_path))\n",
    "\n",
    "# Load data into pandas DataFrames\n",
    "train_features = pd.read_csv(train_features_path, sep='\\s+', header=None)\n",
    "test_features = pd.read_csv(test_features_path, sep='\\s+', header=None)\n",
    "\n",
    "train_labels = pd.read_csv(train_labels_path, sep='\\s+', header=None)\n",
    "test_labels = pd.read_csv(test_labels_path, sep='\\s+', header=None)\n",
    "\n",
    "# Print sample data to ensure loading worked\n",
    "print(\"Train Features Sample:\")\n",
    "print(train_features.head())\n",
    "print(\"Train Labels Sample:\")\n",
    "print(train_labels.head())"
   ]
  },
  {
   "cell_type": "markdown",
   "id": "ed541d55-608d-4c5c-ba1d-99523a47b821",
   "metadata": {},
   "source": [
    "3. FEATURE SCALING"
   ]
  },
  {
   "cell_type": "code",
   "execution_count": 3,
   "id": "421f663a-76fd-40f9-9bf6-50fae0070d8a",
   "metadata": {},
   "outputs": [
    {
     "name": "stdout",
     "output_type": "stream",
     "text": [
      "Scaled Train Features Sample:\n",
      "[[ 0.20064157 -0.0636826  -0.41962845 ... -0.68721921  0.40794614\n",
      "  -0.00756789]\n",
      " [ 0.05594788  0.03148567 -0.25390836 ... -0.694138    0.40911698\n",
      "   0.00787517]\n",
      " [ 0.07351535 -0.04341648 -0.07629468 ... -0.702239    0.4102883\n",
      "   0.02650234]\n",
      " [ 0.06669577 -0.20842166 -0.24971245 ... -0.70168389  0.41465007\n",
      "   0.03171414]\n",
      " [ 0.03046897  0.02758722 -0.10984784 ... -0.70015171  0.42546296\n",
      "   0.04522502]]\n"
     ]
    }
   ],
   "source": [
    "scaler = StandardScaler()\n",
    "train_features_scaled = scaler.fit_transform(train_features)\n",
    "test_features_scaled = scaler.transform(test_features)\n",
    "\n",
    "# Check scaling\n",
    "print(\"Scaled Train Features Sample:\")\n",
    "print(train_features_scaled[:5])"
   ]
  },
  {
   "cell_type": "markdown",
   "id": "e20a0685-939e-4722-8b08-c113319a42e7",
   "metadata": {},
   "source": [
    "4. DIMENSIONALITY REDUCTION USING PCA"
   ]
  },
  {
   "cell_type": "code",
   "execution_count": 4,
   "id": "711a6b4d-2386-4625-9f32-9d5276c6a85e",
   "metadata": {},
   "outputs": [
    {
     "name": "stdout",
     "output_type": "stream",
     "text": [
      "PCA Reduced Train Features Sample:\n",
      "[[-1.61385437e+01  2.15202401e+00  3.14478277e+00 -2.72466696e-01\n",
      "   6.79892778e+00 -4.24940895e+00  2.93759420e+00 -4.90547964e+00\n",
      "  -7.76727445e-01 -3.62383083e+00  7.08811162e-02  8.71682529e-01\n",
      "   1.26596598e+00 -9.45294986e-01  2.78747978e+00  9.28483889e-01\n",
      "  -1.78070522e+00 -3.94847179e+00  2.38382949e+00  3.01404645e-01]\n",
      " [-1.52961943e+01  1.38714379e+00 -6.82220946e-01  2.81367838e+00\n",
      "   4.26616999e+00 -2.05564695e+00  1.10058265e-02 -1.84596797e+00\n",
      "   4.93490063e-01 -1.80164437e-01 -1.16580716e+00  3.95958235e-03\n",
      "   3.59265077e-02  8.43239551e-01  4.74257368e-01 -1.34269202e+00\n",
      "   7.03144896e-01 -2.48457521e-02  1.01405930e+00  2.02594048e-02]\n",
      " [-1.51370186e+01  2.47335094e+00 -1.75663949e+00  3.71797623e+00\n",
      "   4.18155937e+00 -1.35753803e+00  7.28981352e-02 -1.38814938e+00\n",
      "   5.40314822e-01 -6.71138000e-01 -6.75292664e-01 -3.72003520e-01\n",
      "   4.60357032e-01 -1.40715618e+00  8.64801368e-01 -4.57353137e-01\n",
      "  -2.62622216e-01  8.91657921e-01  2.68873143e-01 -8.02932746e-02]\n",
      " [-1.53508838e+01  3.91568073e+00 -1.79032265e+00  2.56752316e+00\n",
      "   3.20584194e+00 -9.42951342e-01  5.30582232e-01 -1.83210881e+00\n",
      "   1.07238498e+00 -1.49834696e+00 -1.34066659e-01 -2.69737628e-01\n",
      "  -1.35588480e+00 -2.63804282e-01 -6.35293599e-01  1.43698617e+00\n",
      "   6.22459616e-03 -3.41858266e-01 -1.40940651e+00 -7.27641121e-01]\n",
      " [-1.55448135e+01  4.59873678e+00 -2.18858279e+00  2.89757764e+00\n",
      "   3.08014191e+00 -1.06145934e+00 -1.04863903e+00 -8.16971147e-01\n",
      "   5.99454145e-01  1.11790559e+00 -2.22268175e+00 -2.48273644e+00\n",
      "  -5.89643026e-01  1.10888322e+00 -5.90800034e-01 -2.06703827e-05\n",
      "   2.23014822e+00  1.34300509e+00 -1.94782150e+00  2.52454698e-01]]\n"
     ]
    }
   ],
   "source": [
    "pca = PCA(n_components=20)\n",
    "train_features_pca = pca.fit_transform(train_features_scaled)\n",
    "test_features_pca = pca.transform(test_features_scaled)\n",
    "\n",
    "# Check PCA\n",
    "print(\"PCA Reduced Train Features Sample:\")\n",
    "print(train_features_pca[:5])"
   ]
  },
  {
   "cell_type": "markdown",
   "id": "ad7eaa2f-16c2-4928-84bf-e353708f88bd",
   "metadata": {},
   "source": [
    "5. KMEANS CLUSTERING AND ADDING CLUSTER LABELS AS A FEATURE"
   ]
  },
  {
   "cell_type": "code",
   "execution_count": 5,
   "id": "21a878f2-290e-4753-bb71-4db92c37080d",
   "metadata": {},
   "outputs": [
    {
     "name": "stdout",
     "output_type": "stream",
     "text": [
      "Train Features with Clusters Sample:\n",
      "           0         1         2         3         4         5         6  \\\n",
      "0 -16.138544  2.152024  3.144783 -0.272467  6.798928 -4.249409  2.937594   \n",
      "1 -15.296194  1.387144 -0.682221  2.813678  4.266170 -2.055647  0.011006   \n",
      "2 -15.137019  2.473351 -1.756639  3.717976  4.181559 -1.357538  0.072898   \n",
      "3 -15.350884  3.915681 -1.790323  2.567523  3.205842 -0.942951  0.530582   \n",
      "4 -15.544814  4.598737 -2.188583  2.897578  3.080142 -1.061459 -1.048639   \n",
      "\n",
      "          7         8         9  ...        11        12        13        14  \\\n",
      "0 -4.905480 -0.776727 -3.623831  ...  0.871683  1.265966 -0.945295  2.787480   \n",
      "1 -1.845968  0.493490 -0.180164  ...  0.003960  0.035927  0.843240  0.474257   \n",
      "2 -1.388149  0.540315 -0.671138  ... -0.372004  0.460357 -1.407156  0.864801   \n",
      "3 -1.832109  1.072385 -1.498347  ... -0.269738 -1.355885 -0.263804 -0.635294   \n",
      "4 -0.816971  0.599454  1.117906  ... -2.482736 -0.589643  1.108883 -0.590800   \n",
      "\n",
      "         15        16        17        18        19  Cluster  \n",
      "0  0.928484 -1.780705 -3.948472  2.383829  0.301405        2  \n",
      "1 -1.342692  0.703145 -0.024846  1.014059  0.020259        2  \n",
      "2 -0.457353 -0.262622  0.891658  0.268873 -0.080293        2  \n",
      "3  1.436986  0.006225 -0.341858 -1.409407 -0.727641        2  \n",
      "4 -0.000021  2.230148  1.343005 -1.947822  0.252455        2  \n",
      "\n",
      "[5 rows x 21 columns]\n"
     ]
    }
   ],
   "source": [
    "kmeans = KMeans(n_clusters=6, random_state=42)\n",
    "train_clusters = kmeans.fit_predict(train_features_pca)\n",
    "test_clusters = kmeans.predict(test_features_pca)\n",
    "\n",
    "# Adding cluster labels as a new feature to the dataset\n",
    "train_features_with_clusters = pd.DataFrame(train_features_pca)\n",
    "train_features_with_clusters['Cluster'] = train_clusters\n",
    "\n",
    "test_features_with_clusters = pd.DataFrame(test_features_pca)\n",
    "test_features_with_clusters['Cluster'] = test_clusters\n",
    "\n",
    "# Check clustering\n",
    "print(\"Train Features with Clusters Sample:\")\n",
    "print(train_features_with_clusters.head())\n"
   ]
  },
  {
   "cell_type": "markdown",
   "id": "fd9903fd-22dc-4e9c-8ebb-35670e4d138e",
   "metadata": {},
   "source": [
    "6. TRAIN-TEST SPLIT"
   ]
  },
  {
   "cell_type": "code",
   "execution_count": 6,
   "id": "c3230434-c8e1-4b57-877c-5db7950f91fd",
   "metadata": {},
   "outputs": [],
   "source": [
    "X_train, X_test, y_train, y_test = train_test_split(train_features_with_clusters, train_labels, test_size=0.3, random_state=42)"
   ]
  },
  {
   "cell_type": "markdown",
   "id": "5d8f7ecf-47dd-4467-8dd9-6b1b3164a5af",
   "metadata": {},
   "source": [
    "7. RANDOM FOREST WITH HYPERPARAMETER TUNING (Grid Search)"
   ]
  },
  {
   "cell_type": "code",
   "execution_count": 7,
   "id": "df81a759-ca8f-497f-9d6b-cc1463bdd21a",
   "metadata": {},
   "outputs": [
    {
     "name": "stdout",
     "output_type": "stream",
     "text": [
      "Random Forest Accuracy: 0.9102447869446962\n",
      "Random Forest Classification Report:\n",
      "               precision    recall  f1-score   support\n",
      "\n",
      "           1       0.97      0.97      0.97       366\n",
      "           2       0.94      0.95      0.94       304\n",
      "           3       0.95      0.94      0.95       311\n",
      "           4       0.83      0.76      0.79       386\n",
      "           5       0.81      0.88      0.84       411\n",
      "           6       0.98      0.98      0.98       428\n",
      "\n",
      "    accuracy                           0.91      2206\n",
      "   macro avg       0.91      0.91      0.91      2206\n",
      "weighted avg       0.91      0.91      0.91      2206\n",
      "\n"
     ]
    }
   ],
   "source": [
    "from sklearn.metrics import accuracy_score, classification_report\n",
    "\n",
    "# Ensure all column names are strings\n",
    "X_train.columns = X_train.columns.astype(str)\n",
    "X_test.columns = X_test.columns.astype(str)\n",
    "\n",
    "# Now proceed with the RandomForest training and prediction\n",
    "rf_classifier = RandomForestClassifier(random_state=42)\n",
    "param_grid_rf = {\n",
    "    'n_estimators': [50, 100, 200],\n",
    "    'max_depth': [10, 20, None],\n",
    "    'min_samples_split': [2, 5, 10]\n",
    "}\n",
    "\n",
    "# Grid search for hyperparameter tuning\n",
    "grid_search_rf = GridSearchCV(rf_classifier, param_grid_rf, cv=3)\n",
    "grid_search_rf.fit(X_train, y_train.values.ravel())\n",
    "\n",
    "# Predict with the best Random Forest model\n",
    "y_pred_rf = grid_search_rf.best_estimator_.predict(X_test)\n",
    "\n",
    "# Evaluate Random Forest\n",
    "accuracy_rf = accuracy_score(y_test, y_pred_rf)\n",
    "classification_report_rf = classification_report(y_test, y_pred_rf)\n",
    "\n",
    "# Ensure to print the results\n",
    "print(\"Random Forest Accuracy:\", accuracy_rf)\n",
    "print(\"Random Forest Classification Report:\\n\", classification_report_rf)\n"
   ]
  },
  {
   "cell_type": "markdown",
   "id": "6f394cd1-03b5-48c5-8cc4-b6306c87651f",
   "metadata": {},
   "source": [
    "8. SUPPORT VECTOR MACHINE (SVM) WITH HYPERPARAMETER TUNING"
   ]
  },
  {
   "cell_type": "code",
   "execution_count": 9,
   "id": "3d291e38-cfdd-4fd7-9190-61a201b6d1a4",
   "metadata": {},
   "outputs": [
    {
     "name": "stdout",
     "output_type": "stream",
     "text": [
      "SVM Accuracy: 0.9310970081595649\n",
      "SVM Classification Report:\n",
      "               precision    recall  f1-score   support\n",
      "\n",
      "           1       0.98      0.99      0.99       366\n",
      "           2       0.99      0.97      0.98       304\n",
      "           3       0.99      0.98      0.99       311\n",
      "           4       0.86      0.78      0.82       386\n",
      "           5       0.82      0.88      0.85       411\n",
      "           6       0.99      1.00      1.00       428\n",
      "\n",
      "    accuracy                           0.93      2206\n",
      "   macro avg       0.94      0.93      0.93      2206\n",
      "weighted avg       0.93      0.93      0.93      2206\n",
      "\n"
     ]
    }
   ],
   "source": [
    "svm_classifier = SVC(random_state=42)\n",
    "param_grid_svm = {\n",
    "    'C': [0.1, 1, 10],\n",
    "    'kernel': ['linear', 'rbf'],\n",
    "    'gamma': ['scale', 'auto']\n",
    "}\n",
    "grid_search_svm = GridSearchCV(svm_classifier, param_grid_svm, cv=3)\n",
    "grid_search_svm.fit(X_train, y_train.values.ravel())\n",
    "\n",
    "# Predicting with the best SVM model\n",
    "y_pred_svm = grid_search_svm.best_estimator_.predict(X_test)\n",
    "\n",
    "# Evaluating SVM\n",
    "accuracy_svm = accuracy_score(y_test, y_pred_svm)\n",
    "classification_report_svm = classification_report(y_test, y_pred_svm)\n",
    "\n",
    "# Display the SVM results\n",
    "print(\"SVM Accuracy:\", accuracy_svm)\n",
    "print(\"SVM Classification Report:\\n\", classification_report_svm)"
   ]
  },
  {
   "cell_type": "markdown",
   "id": "decaf02d-c510-4fa5-b203-e12214a65a8f",
   "metadata": {},
   "source": [
    "9. Implement Visuals"
   ]
  },
  {
   "cell_type": "code",
   "execution_count": 10,
   "id": "6ad0b5a7-1d3d-4fe4-9b12-f3e4f27da851",
   "metadata": {},
   "outputs": [
    {
     "data": {
      "image/png": "[encoded data removed]",
      "text/plain": [
       "<Figure size 1000x600 with 2 Axes>"
      ]
     },
     "metadata": {},
     "output_type": "display_data"
    }
   ],
   "source": [
    "import pandas as pd\n",
    "import matplotlib.pyplot as plt\n",
    "from sklearn.preprocessing import StandardScaler\n",
    "from sklearn.decomposition import PCA\n",
    "from sklearn.cluster import KMeans\n",
    "\n",
    "# 1. Load the data (Assuming data paths are correct)\n",
    "train_features_path = r'C:\\Kodilla\\samsung\\samsung_train.txt'\n",
    "train_labels_path = r'C:\\Kodilla\\samsung\\samsung_train_labels.txt'\n",
    "\n",
    "train_features = pd.read_csv(train_features_path, sep='\\s+', header=None)\n",
    "train_labels = pd.read_csv(train_labels_path, sep='\\s+', header=None)\n",
    "\n",
    "# 2. Scale the data\n",
    "scaler = StandardScaler()\n",
    "train_features_scaled = scaler.fit_transform(train_features)\n",
    "\n",
    "# 3. Reduce the dimensions using PCA\n",
    "pca = PCA(n_components=2)  # Reduce to 2 dimensions for visualization\n",
    "train_features_pca = pca.fit_transform(train_features_scaled)\n",
    "\n",
    "# 4. Apply KMeans clustering to create clusters\n",
    "kmeans = KMeans(n_clusters=6, random_state=42)  # Assuming 6 clusters (based on 6 activities)\n",
    "train_clusters = kmeans.fit_predict(train_features_pca)\n",
    "\n",
    "# 5. Visualize the PCA-reduced data and the clusters\n",
    "plt.figure(figsize=(10, 6))\n",
    "plt.scatter(train_features_pca[:, 0], train_features_pca[:, 1], c=train_clusters, cmap='viridis', s=50)\n",
    "plt.title(\"PCA Reduced Data with KMeans Clusters\")\n",
    "plt.xlabel(\"Principal Component 1\")\n",
    "plt.ylabel(\"Principal Component 2\")\n",
    "plt.colorbar(label=\"Cluster Label\")\n",
    "plt.grid(True)\n",
    "plt.show()"
   ]
  },
  {
   "cell_type": "markdown",
   "id": "7e7f6fc1-be0f-4012-b795-5b2fc7236a5e",
   "metadata": {},
   "source": [
    "1. KMeans:\n",
    "Type: Clustering algorithm (unsupervised learning).\n",
    "Function: It divides data into K clusters by minimizing the distance between data points and the center (centroid) of each cluster. It groups similar data points together without needing labeled data.\n",
    "\n",
    "2. K-Fold Cross-Validation:\n",
    "Type: Model evaluation technique (supervised learning).\n",
    "Function: Splits the dataset into K subsets (folds). The model is trained on K-1 folds and tested on the remaining fold. This process repeats K times, ensuring each fold is used for testing once, helping assess the model's performance more reliably.\n",
    "\n",
    "3. K Nearest Neighbors (KNN):\n",
    "Type: Classification and regression algorithm (supervised learning).\n",
    "Function: It classifies a data point based on the K nearest points in the feature space. For classification, it assigns the most common label among the K neighbors. For regression, it takes the average of the neighbors' values."
   ]
  },
  {
   "cell_type": "code",
   "execution_count": null,
   "id": "fe752cbb-844c-4bc5-8485-ad71439298f6",
   "metadata": {},
   "outputs": [],
   "source": []
  }
 ],
 "metadata": {
  "kernelspec": {
   "display_name": "Python 3 (ipykernel)",
   "language": "python",
   "name": "python3"
  },
  "language_info": {
   "codemirror_mode": {
    "name": "ipython",
    "version": 3
   },
   "file_extension": ".py",
   "mimetype": "text/x-python",
   "name": "python",
   "nbconvert_exporter": "python",
   "pygments_lexer": "ipython3",
   "version": "3.11.7"
  }
 },
 "nbformat": 4,
 "nbformat_minor": 5
}
